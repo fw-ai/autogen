{
 "cells": [
  {
   "cell_type": "markdown",
   "metadata": {},
   "source": [
    "## AutoGen Studio Agent Workflow API Example\n",
    "\n",
    "This notebook focuses on demonstrating capabilities of the autogen studio workflow python api.  \n",
    "\n",
    "- Declarative Specification of an Agent Workflow \n",
    "- Loading the specification and running the resulting agent\n",
    "\n",
    "\n",
    "> Note: The notebook currently demonstrates support for a two agent setup. Support for GroupChat is currently in development."
   ]
  },
  {
   "cell_type": "code",
   "execution_count": 4,
   "metadata": {},
   "outputs": [
    {
     "name": "stdout",
     "output_type": "stream",
     "text": [
      "\u001b[33muserproxy\u001b[0m (to primary_assistant):\n",
      "\n",
      "Paint me a picture of the northern lights\n",
      "\n",
      "--------------------------------------------------------------------------------\n",
      "\u001b[33mprimary_assistant\u001b[0m (to userproxy):\n",
      "\n",
      "\u001b[32m***** Suggested tool Call (call_4kVyu4NzHYJVP2Zbo2HMEfzF): generate_and_save_images *****\u001b[0m\n",
      "Arguments: \n",
      "{\"query\":\"northern lights\"}\n",
      "\u001b[32m*****************************************************************************************\u001b[0m\n",
      "\n",
      "--------------------------------------------------------------------------------\n",
      "Image saved to 88739af8-a07c-47ec-8c8c-13159172922a.png\n",
      "\u001b[33muserproxy\u001b[0m (to primary_assistant):\n",
      "\n",
      "\u001b[33muserproxy\u001b[0m (to primary_assistant):\n",
      "\n",
      "\u001b[32m***** Response from calling tool \"call_4kVyu4NzHYJVP2Zbo2HMEfzF\" *****\u001b[0m\n",
      "['88739af8-a07c-47ec-8c8c-13159172922a.png']\n",
      "\u001b[32m**********************************************************************\u001b[0m\n",
      "\n",
      "--------------------------------------------------------------------------------\n",
      "\u001b[33mprimary_assistant\u001b[0m (to userproxy):\n",
      "\n",
      "The image of the northern lights has been successfully created and saved with the filename \"88739af8-a07c-47ec-8c8c-13159172922a.png\". TERMINATE\n",
      "\n",
      "--------------------------------------------------------------------------------\n"
     ]
    }
   ],
   "source": [
    "import json\n",
    "\n",
    "from firestudio import AgentWorkFlowConfig, AutoGenWorkFlowManager\n",
    "import uuid\n",
    "import os\n",
    "\n",
    "work_dir = f\"/tmp/{uuid.uuid4()}\"\n",
    "if not os.path.exists(work_dir):\n",
    "    os.makedirs(work_dir)\n",
    "\n",
    "# load an agent specification in JSON\n",
    "agent_spec = json.load(open(\"agent_spec.json\"))\n",
    "\n",
    "# Creat a An AutoGen Workflow Configuration from the agent specification\n",
    "agent_work_flow_config = AgentWorkFlowConfig(**agent_spec)\n",
    "\n",
    "# Create a Workflow from the configuration\n",
    "agent_work_flow = AutoGenWorkFlowManager(agent_work_flow_config, work_dir=work_dir)\n",
    "\n",
    "# Run the workflow on a task\n",
    "task_query = \"Paint me a picture of the northern lights\"\n",
    "agent_work_flow.run(message=task_query)"
   ]
  },
  {
   "cell_type": "code",
   "execution_count": 2,
   "metadata": {},
   "outputs": [
    {
     "name": "stdout",
     "output_type": "stream",
     "text": [
      "3.12.1 (main, Dec  7 2023, 20:45:44) [Clang 15.0.0 (clang-1500.1.0.2.5)]\n"
     ]
    }
   ],
   "source": [
    "import sys\n",
    "print(sys.version)"
   ]
  },
  {
   "cell_type": "code",
   "execution_count": 3,
   "metadata": {},
   "outputs": [
    {
     "data": {
      "text/plain": [
       "['/Users/devashisht/Documents/work/autogen/samples/apps/fireworks-studio/notebooks',\n",
       " '/Users/devashisht/Documents/work/autogen/samples/apps/autogen-studio',\n",
       " '/opt/homebrew/Cellar/python@3.12/3.12.1_1/Frameworks/Python.framework/Versions/3.12/lib/python312.zip',\n",
       " '/opt/homebrew/Cellar/python@3.12/3.12.1_1/Frameworks/Python.framework/Versions/3.12/lib/python3.12',\n",
       " '/opt/homebrew/Cellar/python@3.12/3.12.1_1/Frameworks/Python.framework/Versions/3.12/lib/python3.12/lib-dynload',\n",
       " '',\n",
       " '/opt/homebrew/Cellar/jupyterlab/4.0.10/libexec/lib/python3.12/site-packages',\n",
       " '/opt/homebrew/opt/ipython/libexec/lib/python3.12/site-packages',\n",
       " '/opt/homebrew/opt/python-lsp-server/libexec/lib/python3.12/site-packages',\n",
       " '/opt/homebrew/opt/python-packaging/lib/python3.12/site-packages',\n",
       " '/opt/homebrew/opt/python-pathspec/lib/python3.12/site-packages',\n",
       " '/opt/homebrew/opt/python-pluggy/lib/python3.12/site-packages',\n",
       " '/opt/homebrew/opt/python-trove-classifiers/lib/python3.12/site-packages',\n",
       " '/opt/homebrew/opt/z3/lib/python3.12/site-packages',\n",
       " '/opt/homebrew/opt/llvm/lib/python3.12/site-packages',\n",
       " '/opt/homebrew/opt/pycparser/lib/python3.12/site-packages',\n",
       " '/opt/homebrew/opt/cffi/lib/python3.12/site-packages',\n",
       " '/opt/homebrew/opt/pygments/lib/python3.12/site-packages',\n",
       " '/opt/homebrew/opt/six/lib/python3.12/site-packages',\n",
       " '/opt/homebrew/opt/python-markupsafe/lib/python3.12/site-packages',\n",
       " '/opt/homebrew/opt/python-jinja/lib/python3.12/site-packages',\n",
       " '/opt/homebrew/opt/python-certifi/lib/python3.12/site-packages',\n",
       " '/opt/homebrew/opt/python-charset-normalizer/lib/python3.12/site-packages',\n",
       " '/opt/homebrew/opt/python-idna/lib/python3.12/site-packages',\n",
       " '/opt/homebrew/opt/python-urllib3/lib/python3.12/site-packages',\n",
       " '/opt/homebrew/opt/python-requests/lib/python3.12/site-packages',\n",
       " '/opt/homebrew/opt/python-dateutil/lib/python3.12/site-packages',\n",
       " '/opt/homebrew/opt/python-attrs/lib/python3.12/site-packages',\n",
       " '/opt/homebrew/opt/python-click/lib/python3.12/site-packages',\n",
       " '/opt/homebrew/opt/python-platformdirs/lib/python3.12/site-packages',\n",
       " '/opt/homebrew/opt/python-psutil/lib/python3.12/site-packages',\n",
       " '/opt/homebrew/opt/pyyaml/lib/python3.12/site-packages',\n",
       " '/opt/homebrew/opt/python-pluggy/lib/python3.12/site-packages',\n",
       " '/opt/homebrew/opt/python-trove-classifiers/lib/python3.12/site-packages',\n",
       " '/opt/homebrew/opt/z3/lib/python3.12/site-packages',\n",
       " '/opt/homebrew/opt/llvm/lib/python3.12/site-packages',\n",
       " '/opt/homebrew/lib/python3.12/site-packages']"
      ]
     },
     "execution_count": 3,
     "metadata": {},
     "output_type": "execute_result"
    }
   ],
   "source": [
    "sys.path"
   ]
  },
  {
   "cell_type": "code",
   "execution_count": null,
   "metadata": {},
   "outputs": [],
   "source": []
  }
 ],
 "metadata": {
  "kernelspec": {
   "display_name": "Python 3 (ipykernel)",
   "language": "python",
   "name": "python3"
  },
  "language_info": {
   "codemirror_mode": {
    "name": "ipython",
    "version": 3
   },
   "file_extension": ".py",
   "mimetype": "text/x-python",
   "name": "python",
   "nbconvert_exporter": "python",
   "pygments_lexer": "ipython3",
   "version": "3.11.7"
  }
 },
 "nbformat": 4,
 "nbformat_minor": 4
}
