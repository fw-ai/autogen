{
 "cells": [
  {
   "cell_type": "markdown",
   "metadata": {},
   "source": [
    "## AutoGen Studio Agent Workflow API Example\n",
    "\n",
    "This notebook focuses on demonstrating capabilities of the autogen studio workflow python api.  \n",
    "\n",
    "- Declarative Specification of an Agent Workflow \n",
    "- Loading the specification and running the resulting agent\n",
    "\n",
    "\n",
    "> Note: The notebook currently demonstrates support for a two agent setup. Support for GroupChat is currently in development."
   ]
  },
  {
   "cell_type": "code",
   "execution_count": 1,
   "metadata": {},
   "outputs": [],
   "source": [
    "import json\n",
    "\n",
    "from firestudio import AgentWorkFlowConfig, AutoGenWorkFlowManager\n",
    "import uuid\n",
    "import os\n",
    "\n",
    "work_dir = f\"/tmp/{uuid.uuid4()}\"\n",
    "if not os.path.exists(work_dir):\n",
    "    os.makedirs(work_dir)\n",
    "\n",
    "# load an agent specification in JSON\n",
    "agent_spec = json.load(open(\"multi_agent_spec.json\"))"
   ]
  },
  {
   "cell_type": "code",
   "execution_count": 3,
   "metadata": {},
   "outputs": [
    {
     "data": {
      "text/plain": [
       "{'type': 'userproxy',\n",
       " 'config': {'name': 'userproxy',\n",
       "  'human_input_mode': 'NEVER',\n",
       "  'max_consecutive_auto_reply': 5,\n",
       "  'system_message': '',\n",
       "  'llm_config': False,\n",
       "  'code_execution_config': {'work_dir': None, 'use_docker': False}}}"
      ]
     },
     "execution_count": 3,
     "metadata": {},
     "output_type": "execute_result"
    }
   ],
   "source": [
    "agent_spec['sender']"
   ]
  },
  {
   "cell_type": "code",
   "execution_count": null,
   "metadata": {},
   "outputs": [],
   "source": [
    "agent_spec['"
   ]
  }
 ],
 "metadata": {
  "kernelspec": {
   "display_name": "Python 3 (ipykernel)",
   "language": "python",
   "name": "python3"
  },
  "language_info": {
   "codemirror_mode": {
    "name": "ipython",
    "version": 3
   },
   "file_extension": ".py",
   "mimetype": "text/x-python",
   "name": "python",
   "nbconvert_exporter": "python",
   "pygments_lexer": "ipython3",
   "version": "3.11.7"
  }
 },
 "nbformat": 4,
 "nbformat_minor": 4
}
