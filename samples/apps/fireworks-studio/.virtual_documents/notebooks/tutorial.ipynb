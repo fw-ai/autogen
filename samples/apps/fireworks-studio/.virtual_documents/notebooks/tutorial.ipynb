


import json

from firestudio import AgentWorkFlowConfig, AutoGenWorkFlowManager
import uuid
import os

work_dir = f"/tmp/{uuid.uuid4()}"
if not os.path.exists(work_dir):
    os.makedirs(work_dir)

# load an agent specification in JSON
agent_spec = json.load(open("agent_spec.json"))

# Creat a An AutoGen Workflow Configuration from the agent specification
agent_work_flow_config = AgentWorkFlowConfig(**agent_spec)

# Create a Workflow from the configuration
agent_work_flow = AutoGenWorkFlowManager(agent_work_flow_config, work_dir=work_dir)

# Run the workflow on a task
task_query = "Compare the stock price of nvidia and supermicro over the past 1 year and plot a chart with their prices."
agent_work_flow.run(message=task_query, clear_history=True)



